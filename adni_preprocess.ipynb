{
 "cells": [
  {
   "cell_type": "code",
   "execution_count": 80,
   "id": "73d8c46d",
   "metadata": {},
   "outputs": [],
   "source": [
    "import subprocess\n",
    "import os\n",
    "from tqdm import tqdm"
   ]
  },
  {
   "cell_type": "code",
   "execution_count": 81,
   "id": "73370f5f",
   "metadata": {},
   "outputs": [],
   "source": [
    "root_dicom_dir = \"/media/robin/4B48E5E39EAFFEB2/T1-AD-to6\"\n",
    "output_dir = \"data/ADNI/AD-to6\""
   ]
  },
  {
   "cell_type": "code",
   "execution_count": 82,
   "id": "48d8994f",
   "metadata": {},
   "outputs": [],
   "source": [
    "# find all directories that contain DICOM files\n",
    "dicom_dirs = set()\n",
    "\n",
    "for root, dirs, files in os.walk(root_dicom_dir):\n",
    "    for file in files:\n",
    "        if file.endswith(\".dcm\"):\n",
    "            if \"B1\" in root: continue\n",
    "            dicom_dirs.add(root)\n",
    "            break\n"
   ]
  },
  {
   "cell_type": "code",
   "execution_count": 83,
   "id": "ee957763",
   "metadata": {},
   "outputs": [
    {
     "name": "stdout",
     "output_type": "stream",
     "text": [
      "['/media/robin/4B48E5E39EAFFEB2/T1-AD-to6/ADNI/002_S_0619/MP-RAGE/2006-12-13_08_57_02.0/I33171', '/media/robin/4B48E5E39EAFFEB2/T1-AD-to6/ADNI/002_S_0619/MP-RAGE_REPEAT/2006-12-13_09_05_03.0/I33170', '/media/robin/4B48E5E39EAFFEB2/T1-AD-to6/ADNI/002_S_0816/MP-RAGE/2007-04-11_10_09_26.0/I49010', '/media/robin/4B48E5E39EAFFEB2/T1-AD-to6/ADNI/002_S_0816/MP-RAGE_REPEAT/2007-04-11_10_17_34.0/I49011', '/media/robin/4B48E5E39EAFFEB2/T1-AD-to6/ADNI/002_S_0938/MP-RAGE/2007-04-12_08_16_54.0/I49023']\n"
     ]
    }
   ],
   "source": [
    "dicom_dirs = sorted(list(dicom_dirs))\n",
    "print(dicom_dirs[:5])"
   ]
  },
  {
   "cell_type": "code",
   "execution_count": 84,
   "id": "a70cf740",
   "metadata": {},
   "outputs": [],
   "source": [
    "if not os.path.exists(output_dir):\n",
    "    os.makedirs(output_dir)"
   ]
  },
  {
   "cell_type": "code",
   "execution_count": 85,
   "id": "f8e5124c",
   "metadata": {},
   "outputs": [
    {
     "name": "stdout",
     "output_type": "stream",
     "text": [
      "878\n"
     ]
    }
   ],
   "source": [
    "print(len(dicom_dirs))"
   ]
  },
  {
   "cell_type": "code",
   "execution_count": 86,
   "id": "bea070b0",
   "metadata": {},
   "outputs": [],
   "source": [
    "def convert_dicom_to_nifti(dicom_dir:str, output_dir:str, file_template:str=\"%n_%f_%d\"):\n",
    "    \"\"\"\n",
    "    Convert DICOM files to NIfTI format using dcm2niix.\n",
    "    Args:\n",
    "        dicom_dir (str): Directory containing DICOM files.\n",
    "        output_dir (str): Directory to save the converted NIfTI files.\n",
    "        file_template (str): Template for naming the output files.\n",
    "    \"\"\"\n",
    "    try:\n",
    "        subprocess.run([\n",
    "            \"dcm2niix_afni\",\n",
    "            \"-z\", \"y\", \n",
    "            \"-o\", output_dir,\n",
    "            \"-f\", file_template,\n",
    "            dicom_dir\n",
    "        ], stdout=subprocess.DEVNULL)\n",
    "    except Exception as e:\n",
    "        print(f\"Error: {e}\")\n",
    "        print(f\"Error converting {dicom_dir} to NIfTI.\")\n",
    "        return False\n",
    "    return True"
   ]
  },
  {
   "cell_type": "code",
   "execution_count": 87,
   "id": "ffea48ad",
   "metadata": {},
   "outputs": [
    {
     "name": "stderr",
     "output_type": "stream",
     "text": [
      "Converting DICOM to NIfTI: 100%|██████████| 878/878 [25:23<00:00,  1.73s/dir]\n"
     ]
    }
   ],
   "source": [
    "for dicom_dir in tqdm(dicom_dirs, desc=\"Converting DICOM to NIfTI\", unit=\"dir\"):\n",
    "    convert_dicom_to_nifti(dicom_dir, output_dir)"
   ]
  },
  {
   "cell_type": "code",
   "execution_count": null,
   "id": "e0fade04",
   "metadata": {},
   "outputs": [],
   "source": []
  }
 ],
 "metadata": {
  "kernelspec": {
   "display_name": ".venv",
   "language": "python",
   "name": "python3"
  },
  "language_info": {
   "codemirror_mode": {
    "name": "ipython",
    "version": 3
   },
   "file_extension": ".py",
   "mimetype": "text/x-python",
   "name": "python",
   "nbconvert_exporter": "python",
   "pygments_lexer": "ipython3",
   "version": "3.10.12"
  }
 },
 "nbformat": 4,
 "nbformat_minor": 5
}
