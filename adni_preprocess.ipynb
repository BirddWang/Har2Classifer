{
 "cells": [
  {
   "cell_type": "code",
   "execution_count": 10,
   "id": "73d8c46d",
   "metadata": {},
   "outputs": [],
   "source": [
    "import subprocess\n",
    "import os\n",
    "from tqdm import tqdm"
   ]
  },
  {
   "cell_type": "code",
   "execution_count": 11,
   "id": "73370f5f",
   "metadata": {},
   "outputs": [],
   "source": [
    "root_dicom_dir = \"/media/robin/4B48E5E39EAFFEB2/T1-AD-BASE\"\n",
    "output_dir = \"/media/robin/4B48E5E39EAFFEB2/T1-AD-BASE-nii\""
   ]
  },
  {
   "cell_type": "code",
   "execution_count": 12,
   "id": "48d8994f",
   "metadata": {},
   "outputs": [],
   "source": [
    "# find all directories that contain DICOM files\n",
    "dicom_dirs = set()\n",
    "\n",
    "for root, dirs, files in os.walk(root_dicom_dir):\n",
    "    for file in files:\n",
    "        if file.endswith(\".dcm\"):\n",
    "            if \"B1\" in root: continue\n",
    "            dicom_dirs.add(root)\n",
    "            break\n"
   ]
  },
  {
   "cell_type": "code",
   "execution_count": 13,
   "id": "ee957763",
   "metadata": {},
   "outputs": [
    {
     "name": "stdout",
     "output_type": "stream",
     "text": [
      "['/media/robin/4B48E5E39EAFFEB2/T1-AD-BASE/ADNI/005_S_0814/MP-RAGE-REPEAT/2006-09-20_11_22_05.0/I24735', '/media/robin/4B48E5E39EAFFEB2/T1-AD-BASE/ADNI/005_S_0814/MP-RAGE/2006-09-20_11_11_42.0/I24734', '/media/robin/4B48E5E39EAFFEB2/T1-AD-BASE/ADNI/007_S_1304/MP-RAGE/2007-04-02_11_03_26.0/I47669', '/media/robin/4B48E5E39EAFFEB2/T1-AD-BASE/ADNI/007_S_1304/MP-RAGE_REPEAT/2007-04-02_11_13_23.0/I47670', '/media/robin/4B48E5E39EAFFEB2/T1-AD-BASE/ADNI/013_S_0996/MPRAGE/2007-01-03_13_32_28.0/I35294']\n"
     ]
    }
   ],
   "source": [
    "dicom_dirs = sorted(list(dicom_dirs))\n",
    "print(dicom_dirs[:5])"
   ]
  },
  {
   "cell_type": "code",
   "execution_count": 14,
   "id": "12d97702",
   "metadata": {},
   "outputs": [
    {
     "data": {
      "text/plain": [
       "60"
      ]
     },
     "execution_count": 14,
     "metadata": {},
     "output_type": "execute_result"
    }
   ],
   "source": [
    "len(dicom_dirs)"
   ]
  },
  {
   "cell_type": "code",
   "execution_count": 15,
   "id": "a70cf740",
   "metadata": {},
   "outputs": [],
   "source": [
    "if not os.path.exists(output_dir):\n",
    "    os.makedirs(output_dir)"
   ]
  },
  {
   "cell_type": "code",
   "execution_count": 16,
   "id": "f8e5124c",
   "metadata": {},
   "outputs": [
    {
     "name": "stdout",
     "output_type": "stream",
     "text": [
      "60\n"
     ]
    }
   ],
   "source": [
    "print(len(dicom_dirs))"
   ]
  },
  {
   "cell_type": "code",
   "execution_count": 17,
   "id": "bea070b0",
   "metadata": {},
   "outputs": [],
   "source": [
    "def convert_dicom_to_nifti(dicom_dir:str, output_dir:str, file_template:str=\"%n_%f_%d\"):\n",
    "    \"\"\"\n",
    "    Convert DICOM files to NIfTI format using dcm2niix.\n",
    "    Args:\n",
    "        dicom_dir (str): Directory containing DICOM files.\n",
    "        output_dir (str): Directory to save the converted NIfTI files.\n",
    "        file_template (str): Template for naming the output files.\n",
    "    \"\"\"\n",
    "    try:\n",
    "        subprocess.run([\n",
    "            \"dcm2niix_afni\",\n",
    "            \"-z\", \"y\", \n",
    "            \"-o\", output_dir,\n",
    "            \"-f\", file_template,\n",
    "            dicom_dir\n",
    "        ], stdout=subprocess.DEVNULL)\n",
    "    except Exception as e:\n",
    "        print(f\"Error: {e}\")\n",
    "        print(f\"Error converting {dicom_dir} to NIfTI.\")\n",
    "        return False\n",
    "    return True"
   ]
  },
  {
   "cell_type": "code",
   "execution_count": 18,
   "id": "ffea48ad",
   "metadata": {},
   "outputs": [
    {
     "name": "stderr",
     "output_type": "stream",
     "text": [
      "Converting DICOM to NIfTI: 100%|██████████| 60/60 [01:50<00:00,  1.84s/dir]\n"
     ]
    }
   ],
   "source": [
    "for dicom_dir in tqdm(dicom_dirs, desc=\"Converting DICOM to NIfTI\", unit=\"dir\"):\n",
    "    convert_dicom_to_nifti(dicom_dir, output_dir)"
   ]
  },
  {
   "cell_type": "code",
   "execution_count": null,
   "id": "e0fade04",
   "metadata": {},
   "outputs": [],
   "source": []
  }
 ],
 "metadata": {
  "kernelspec": {
   "display_name": ".venv",
   "language": "python",
   "name": "python3"
  },
  "language_info": {
   "codemirror_mode": {
    "name": "ipython",
    "version": 3
   },
   "file_extension": ".py",
   "mimetype": "text/x-python",
   "name": "python",
   "nbconvert_exporter": "python",
   "pygments_lexer": "ipython3",
   "version": "3.10.12"
  }
 },
 "nbformat": 4,
 "nbformat_minor": 5
}
