{
 "cells": [
  {
   "cell_type": "code",
   "execution_count": null,
   "id": "e89c5976",
   "metadata": {},
   "outputs": [],
   "source": [
    "import numpy as np\n",
    "import SimpleITK as sitk\n",
    "from beta_encoder import BetaEncoder\n",
    "from classifier import R3DModel\n",
    "import matplotlib.pyplot as plt\n",
    "import torch"
   ]
  },
  {
   "cell_type": "code",
   "execution_count": null,
   "id": "bcf05186",
   "metadata": {},
   "outputs": [],
   "source": [
    "encoder = BetaEncoder(in_ch=1, out_ch=5, base_ch=8, final_act='none')\n",
    "decoder = R3DModel(num_classes=2)"
   ]
  },
  {
   "cell_type": "code",
   "execution_count": 3,
   "id": "0ca662fe",
   "metadata": {},
   "outputs": [],
   "source": [
    "img = sitk.ReadImage('data/preprocessed/final_haca3_ready.nii.gz')\n",
    "thresholdFilter = sitk.OtsuThresholdImageFilter()\n",
    "thresholdFilter.SetInsideValue(0)  # Mask 內部的像素值\n",
    "thresholdFilter.SetOutsideValue(1) # Mask 外部的像素值\n",
    "mask_sitk = thresholdFilter.Execute(img)\n",
    "mask_sitk = sitk.GetArrayFromImage(mask_sitk)"
   ]
  },
  {
   "cell_type": "code",
   "execution_count": 4,
   "id": "6c632d37",
   "metadata": {},
   "outputs": [
    {
     "data": {
      "text/plain": [
       "(192, 224, 192)"
      ]
     },
     "execution_count": 4,
     "metadata": {},
     "output_type": "execute_result"
    }
   ],
   "source": [
    "img = sitk.GetArrayFromImage(img)\n",
    "img.shape"
   ]
  },
  {
   "cell_type": "code",
   "execution_count": 6,
   "id": "fc3c90f6",
   "metadata": {},
   "outputs": [],
   "source": [
    "encoder = encoder.eval()\n",
    "decoder = decoder.eval()\n",
    "\n",
    "encoder = encoder.to('cuda')\n",
    "decoder = decoder.to('cuda')"
   ]
  },
  {
   "cell_type": "code",
   "execution_count": 7,
   "id": "0249e3f1",
   "metadata": {},
   "outputs": [],
   "source": [
    "batch_size = 1\n",
    "slice_index = 50\n",
    "\n",
    "axial_slice = img[slice_index, :, :]\n",
    "axial_slice_mask = mask_sitk[slice_index, :, :]\n",
    "\n",
    "axial_slice = axial_slice.astype(np.float32)\n",
    "axial_tensor = torch.from_numpy(axial_slice)\n",
    "axial_tensor = axial_tensor.unsqueeze(0).unsqueeze(0)"
   ]
  },
  {
   "cell_type": "code",
   "execution_count": 8,
   "id": "3e005f50",
   "metadata": {},
   "outputs": [
    {
     "data": {
      "text/plain": [
       "(224, 192)"
      ]
     },
     "execution_count": 8,
     "metadata": {},
     "output_type": "execute_result"
    }
   ],
   "source": [
    "axial_tensor.shape\n",
    "axial_slice_mask.shape"
   ]
  },
  {
   "cell_type": "code",
   "execution_count": 9,
   "id": "1251c4c0",
   "metadata": {},
   "outputs": [],
   "source": [
    "output = encoder(axial_tensor.to('cuda')).detach().cpu().squeeze(0).numpy()"
   ]
  },
  {
   "cell_type": "code",
   "execution_count": 10,
   "id": "b227549b",
   "metadata": {},
   "outputs": [],
   "source": [
    "masked_output = output * axial_slice_mask"
   ]
  },
  {
   "cell_type": "code",
   "execution_count": null,
   "id": "e9cfd662",
   "metadata": {},
   "outputs": [],
   "source": []
  }
 ],
 "metadata": {
  "kernelspec": {
   "display_name": ".venv",
   "language": "python",
   "name": "python3"
  },
  "language_info": {
   "codemirror_mode": {
    "name": "ipython",
    "version": 3
   },
   "file_extension": ".py",
   "mimetype": "text/x-python",
   "name": "python",
   "nbconvert_exporter": "python",
   "pygments_lexer": "ipython3",
   "version": "3.10.12"
  }
 },
 "nbformat": 4,
 "nbformat_minor": 5
}
